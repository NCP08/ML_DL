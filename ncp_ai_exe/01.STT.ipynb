{
 "cells": [
  {
   "cell_type": "markdown",
   "metadata": {},
   "source": [
    "# Python\n",
    "```Python 기반의 STT (Speech-to-Text) API 예제 코드는 다음과 같습니다```"
   ]
  },
  {
   "cell_type": "code",
   "execution_count": 1,
   "metadata": {},
   "outputs": [
    {
     "name": "stdout",
     "output_type": "stream",
     "text": [
      "{\"text\":\"네 저는 조금 큰것을 잘 적응할 수 있습니다 번호에 붙어 번호대로 순서대로 근무를 하는 것이지만 사실상 미리 스케줄이 나오는 제도로써 스케줄대로만 근무를 하게 된다면 문제 없이 두번 죽은 후에 잘 적응할 수 있습니다 특히나 야간 근무가 필요할 경우에는 전날 주간 금요일 야간에 들어갈 일은 없을거라고 생각하기때문에 피로감 없이 진행할 수 있으며 만약 너무 피곤하다면 껌을 씹으면서 잠을 깨 우려 노력하여 업무에 지장을 주지 않기 위해 최선을 다하는 사람이 되 겠 습니\"}\n"
     ]
    }
   ],
   "source": [
    "import sys\n",
    "import requests\n",
    "client_id = \"YOUR_CLIENT_ID\"\n",
    "client_secret = \"YOUR_CLIENT_SECRET\"\n",
    "lang = \"Kor\" # 언어 코드 ( Kor, Jpn, Eng, Chn )\n",
    "url = \"https://naveropenapi.apigw.ntruss.com/recog/v1/stt?lang=\" + lang\n",
    "data = open('./datasets/audio/ckmk_a_rnd_f_e_23896.wav', 'rb')\n",
    "headers = {\n",
    "    \"X-NCP-APIGW-API-KEY-ID\": client_id,\n",
    "    \"X-NCP-APIGW-API-KEY\": client_secret,\n",
    "    \"Content-Type\": \"application/octet-stream\"\n",
    "}\n",
    "response = requests.post(url,  data=data, headers=headers)\n",
    "rescode = response.status_code\n",
    "if(rescode == 200):\n",
    "    print (response.text)\n",
    "else:\n",
    "    print(\"Error : \" + response.text)"
   ]
  }
 ],
 "metadata": {
  "kernelspec": {
   "display_name": "base",
   "language": "python",
   "name": "python3"
  },
  "language_info": {
   "codemirror_mode": {
    "name": "ipython",
    "version": 3
   },
   "file_extension": ".py",
   "mimetype": "text/x-python",
   "name": "python",
   "nbconvert_exporter": "python",
   "pygments_lexer": "ipython3",
   "version": "3.12.3"
  }
 },
 "nbformat": 4,
 "nbformat_minor": 2
}
